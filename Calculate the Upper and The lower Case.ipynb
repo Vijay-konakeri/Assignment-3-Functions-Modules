{
 "cells": [
  {
   "cell_type": "markdown",
   "id": "a69a46b2-1a97-431f-a64f-f5e6e11e8c62",
   "metadata": {},
   "source": [
    "Write a Python function that accepts a string and calculate the number of upper case letters and lower case letters."
   ]
  },
  {
   "cell_type": "code",
   "execution_count": 1,
   "id": "982e587a-bd64-4381-85fa-424b2c399dd4",
   "metadata": {},
   "outputs": [
    {
     "name": "stdout",
     "output_type": "stream",
     "text": [
      "(3, 12)\n"
     ]
    }
   ],
   "source": [
    "def count_case(string):\n",
    "  upper = 0\n",
    "  lower = 0\n",
    "  for char in string:\n",
    "    if char.isupper():\n",
    "      upper += 1\n",
    "    elif char.islower():\n",
    "      lower += 1\n",
    "  return (upper, lower)\n",
    "\n",
    "# Test the function\n",
    "print(count_case(\"The quick Brow Fox\"))"
   ]
  }
 ],
 "metadata": {
  "kernelspec": {
   "display_name": "Python 3 (ipykernel)",
   "language": "python",
   "name": "python3"
  },
  "language_info": {
   "codemirror_mode": {
    "name": "ipython",
    "version": 3
   },
   "file_extension": ".py",
   "mimetype": "text/x-python",
   "name": "python",
   "nbconvert_exporter": "python",
   "pygments_lexer": "ipython3",
   "version": "3.11.1"
  }
 },
 "nbformat": 4,
 "nbformat_minor": 5
}

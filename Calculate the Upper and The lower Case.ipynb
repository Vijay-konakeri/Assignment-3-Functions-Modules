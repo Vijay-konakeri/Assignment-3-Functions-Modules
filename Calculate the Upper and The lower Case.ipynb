{
 "cells": [
  {
   "cell_type": "markdown",
   "id": "a69a46b2-1a97-431f-a64f-f5e6e11e8c62",
   "metadata": {},
   "source": [
    "Write a Python function that accepts a string and calculate the number of upper case letters and lower case letters."
   ]
  },
  {
   "cell_type": "code",
   "execution_count": 3,
   "id": "982e587a-bd64-4381-85fa-424b2c399dd4",
   "metadata": {},
   "outputs": [
    {
     "name": "stdout",
     "output_type": "stream",
     "text": [
      "(The quick Brow Fox)Total lowercase in this sentence: 12\n",
      "(The quick Brow Fox)Total uppercase in this sentence: 3\n"
     ]
    }
   ],
   "source": [
    "def case_count(s):\n",
    "    lowercase = 0\n",
    "    uppercase = 0\n",
    "    for c in s:\n",
    "        if c.isupper():\n",
    "            uppercase += 1\n",
    "        elif c.islower():\n",
    "            lowercase += 1\n",
    "    return f\"({s})Total lowercase in this sentence: {lowercase}\\n({s})Total uppercase in this sentence: {uppercase}\"\n",
    "\n",
    "# Test the function\n",
    "print(case_count('The quick Brow Fox'))\n"
   ]
  },
  {
   "cell_type": "code",
   "execution_count": null,
   "id": "0f9c9866-91d1-45bd-92d8-314f66594d70",
   "metadata": {},
   "outputs": [],
   "source": []
  }
 ],
 "metadata": {
  "kernelspec": {
   "display_name": "Python 3 (ipykernel)",
   "language": "python",
   "name": "python3"
  },
  "language_info": {
   "codemirror_mode": {
    "name": "ipython",
    "version": 3
   },
   "file_extension": ".py",
   "mimetype": "text/x-python",
   "name": "python",
   "nbconvert_exporter": "python",
   "pygments_lexer": "ipython3",
   "version": "3.11.1"
  }
 },
 "nbformat": 4,
 "nbformat_minor": 5
}

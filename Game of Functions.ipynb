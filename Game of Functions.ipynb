{
 "cells": [
  {
   "cell_type": "markdown",
   "id": "b7f90c44-80eb-427e-8a91-e12f0aae120a",
   "metadata": {},
   "source": [
    " Write a Python function to sum all the numbers in a list."
   ]
  },
  {
   "cell_type": "code",
   "execution_count": 3,
   "id": "b7851dc4-b882-4b45-af4e-fb251b2ee66b",
   "metadata": {},
   "outputs": [
    {
     "name": "stdout",
     "output_type": "stream",
     "text": [
      "20\n"
     ]
    }
   ],
   "source": [
    "def sum_numbers(numbers):\n",
    "  total = 0\n",
    "  for number in numbers:\n",
    "    total += number\n",
    "  return total\n",
    "\n",
    "# Test the function\n",
    "print(sum_numbers([8, 2, 3, 0, 7]))"
   ]
  }
 ],
 "metadata": {
  "kernelspec": {
   "display_name": "Python 3 (ipykernel)",
   "language": "python",
   "name": "python3"
  },
  "language_info": {
   "codemirror_mode": {
    "name": "ipython",
    "version": 3
   },
   "file_extension": ".py",
   "mimetype": "text/x-python",
   "name": "python",
   "nbconvert_exporter": "python",
   "pygments_lexer": "ipython3",
   "version": "3.11.1"
  }
 },
 "nbformat": 4,
 "nbformat_minor": 5
}
